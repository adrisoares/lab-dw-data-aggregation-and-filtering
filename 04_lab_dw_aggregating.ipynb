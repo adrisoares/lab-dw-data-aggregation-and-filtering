{
  "cells": [
    {
      "cell_type": "markdown",
      "id": "31969215-2a90-4d8b-ac36-646a7ae13744",
      "metadata": {
        "id": "31969215-2a90-4d8b-ac36-646a7ae13744"
      },
      "source": [
        "# Lab | Data Aggregation and Filtering"
      ]
    },
    {
      "cell_type": "markdown",
      "id": "a8f08a52-bec0-439b-99cc-11d3809d8b5d",
      "metadata": {
        "id": "a8f08a52-bec0-439b-99cc-11d3809d8b5d"
      },
      "source": [
        "In this challenge, we will continue to work with customer data from an insurance company. We will use the dataset called marketing_customer_analysis.csv, which can be found at the following link:\n",
        "\n",
        "https://raw.githubusercontent.com/data-bootcamp-v4/data/main/marketing_customer_analysis.csv\n",
        "\n",
        "This dataset contains information such as customer demographics, policy details, vehicle information, and the customer's response to the last marketing campaign. Our goal is to explore and analyze this data by first performing data cleaning, formatting, and structuring."
      ]
    },
    {
      "cell_type": "markdown",
      "id": "9c98ddc5-b041-4c94-ada1-4dfee5c98e50",
      "metadata": {
        "id": "9c98ddc5-b041-4c94-ada1-4dfee5c98e50"
      },
      "source": [
        "1. Create a new DataFrame that only includes customers who have a total_claim_amount greater than $1,000 and have a response of \"Yes\" to the last marketing campaign."
      ]
    },
    {
      "cell_type": "markdown",
      "id": "b9be383e-5165-436e-80c8-57d4c757c8c3",
      "metadata": {
        "id": "b9be383e-5165-436e-80c8-57d4c757c8c3"
      },
      "source": [
        "2. Using the original Dataframe, analyze the average total_claim_amount by each policy type and gender for customers who have responded \"Yes\" to the last marketing campaign. Write your conclusions."
      ]
    },
    {
      "cell_type": "markdown",
      "id": "7050f4ac-53c5-4193-a3c0-8699b87196f0",
      "metadata": {
        "id": "7050f4ac-53c5-4193-a3c0-8699b87196f0"
      },
      "source": [
        "3. Analyze the total number of customers who have policies in each state, and then filter the results to only include states where there are more than 500 customers."
      ]
    },
    {
      "cell_type": "markdown",
      "id": "b60a4443-a1a7-4bbf-b78e-9ccdf9895e0d",
      "metadata": {
        "id": "b60a4443-a1a7-4bbf-b78e-9ccdf9895e0d"
      },
      "source": [
        "4. Find the maximum, minimum, and median customer lifetime value by education level and gender. Write your conclusions."
      ]
    },
    {
      "cell_type": "markdown",
      "id": "b42999f9-311f-481e-ae63-40a5577072c5",
      "metadata": {
        "id": "b42999f9-311f-481e-ae63-40a5577072c5"
      },
      "source": [
        "## Bonus"
      ]
    },
    {
      "cell_type": "markdown",
      "id": "81ff02c5-6584-4f21-a358-b918697c6432",
      "metadata": {
        "id": "81ff02c5-6584-4f21-a358-b918697c6432"
      },
      "source": [
        "5. The marketing team wants to analyze the number of policies sold by state and month. Present the data in a table where the months are arranged as columns and the states are arranged as rows."
      ]
    },
    {
      "cell_type": "markdown",
      "id": "b6aec097-c633-4017-a125-e77a97259cda",
      "metadata": {
        "id": "b6aec097-c633-4017-a125-e77a97259cda"
      },
      "source": [
        "6.  Display a new DataFrame that contains the number of policies sold by month, by state, for the top 3 states with the highest number of policies sold.\n",
        "\n",
        "*Hint:*\n",
        "- *To accomplish this, you will first need to group the data by state and month, then count the number of policies sold for each group. Afterwards, you will need to sort the data by the count of policies sold in descending order.*\n",
        "- *Next, you will select the top 3 states with the highest number of policies sold.*\n",
        "- *Finally, you will create a new DataFrame that contains the number of policies sold by month for each of the top 3 states.*"
      ]
    },
    {
      "cell_type": "markdown",
      "id": "ba975b8a-a2cf-4fbf-9f59-ebc381767009",
      "metadata": {
        "id": "ba975b8a-a2cf-4fbf-9f59-ebc381767009"
      },
      "source": [
        "7. The marketing team wants to analyze the effect of different marketing channels on the customer response rate.\n",
        "\n",
        "Hint: You can use melt to unpivot the data and create a table that shows the customer response rate (those who responded \"Yes\") by marketing channel."
      ]
    },
    {
      "cell_type": "markdown",
      "id": "e4378d94-48fb-4850-a802-b1bc8f427b2d",
      "metadata": {
        "id": "e4378d94-48fb-4850-a802-b1bc8f427b2d"
      },
      "source": [
        "External Resources for Data Filtering: https://towardsdatascience.com/filtering-data-frames-in-pandas-b570b1f834b9"
      ]
    },
    {
      "cell_type": "code",
      "source": [
        "import pandas as pd\n",
        "url = \"https://raw.githubusercontent.com/data-bootcamp-v4/data/main/marketing_customer_analysis.csv\"\n",
        "\n",
        "df = pd.read_csv(url)\n",
        "df.head()\n",
        "df.columns"
      ],
      "metadata": {
        "id": "CdWu8AW3E8rc"
      },
      "id": "CdWu8AW3E8rc",
      "execution_count": null,
      "outputs": []
    },
    {
      "cell_type": "code",
      "source": [
        "print(f\"The current shape of our dataframe is {df.shape}\")"
      ],
      "metadata": {
        "id": "9gdQPJteHiWY"
      },
      "id": "9gdQPJteHiWY",
      "execution_count": null,
      "outputs": []
    },
    {
      "cell_type": "code",
      "source": [
        "print(df.isnull().sum(), \"a lot of 633 nulls in separated columns... Marge Simpson's Groan here\\n\")\n",
        "print(df.duplicated().sum(), \"no duplicates, lovely\")"
      ],
      "metadata": {
        "id": "RMyWRqAgE8oa"
      },
      "id": "RMyWRqAgE8oa",
      "execution_count": null,
      "outputs": []
    },
    {
      "cell_type": "code",
      "source": [
        "# 1. Create a new DataFrame that only includes customers who have a total_claim_amount\n",
        "# greater than $1,000 and have a response of \"Yes\" to the last marketing campaign\n",
        "\n",
        "df.dropna(subset = [\"Response\"], inplace=True)\n",
        "#df[\"Response\"].isnull().sum()\n",
        "\n",
        "df1 = df[df[\"Response\"] == \"Yes\"]\n",
        "df2 = df1[df1[\"Total Claim Amount\"] > 1000]\n",
        "#df2\n",
        "\n",
        "# And for the actual answer\n",
        "df3 = df[(df[\"Response\"] == \"Yes\") & (df[\"Customer Lifetime Value\"] > 1000)]\n",
        "df3"
      ],
      "metadata": {
        "id": "kPonHPMkE8l-"
      },
      "id": "kPonHPMkE8l-",
      "execution_count": null,
      "outputs": []
    },
    {
      "cell_type": "code",
      "source": [
        "# 2. Using the original Dataframe, analyze the average total_claim_amount by each policy type\n",
        "# and gender for customers who have responded \"Yes\" to the last marketing campaign. Write your conclusions.\n",
        "\"\"\"Re-using df1 - because is actually my \"YES\" response sample\"\"\"\n",
        "\n",
        "df1.groupby([\"Gender\", \"Policy Type\"]).agg({\"Total Claim Amount\":\"mean\"})"
      ],
      "metadata": {
        "id": "s34mV3dwMKIZ"
      },
      "id": "s34mV3dwMKIZ",
      "execution_count": null,
      "outputs": []
    },
    {
      "cell_type": "code",
      "source": [
        "# 2.\n",
        "\"\"\"From the output we can see that the cost of policy type is actually different according to gender:\n",
        "Women actually pay more for \"Special Auto\" while man pay less 23,753 for the same policy type.\n",
        "Corporate auto is the less expensive for both samples, but still, women pay more for that same policy type\"\"\""
      ],
      "metadata": {
        "id": "n2RfJufsQhf0"
      },
      "id": "n2RfJufsQhf0",
      "execution_count": null,
      "outputs": []
    },
    {
      "cell_type": "code",
      "source": [
        "# 3. Analyze the total number of customers who have policies in each state,\n",
        "# and then filter the results to only include states where there are more than 500 customers.\n",
        "\n",
        "# First, group by 'State' and count the number of customers in each state\n",
        "df_3 = df.groupby(\"State\").agg({\"Customer\": \"count\"})\n",
        "\n",
        "# After having my sample, going to filter states with more than 500 customers\n",
        "df_3 = df_3[df_3['Customer'] > 500]\n",
        "df_3"
      ],
      "metadata": {
        "id": "VHXTYDg8i4W5"
      },
      "id": "VHXTYDg8i4W5",
      "execution_count": null,
      "outputs": []
    },
    {
      "cell_type": "code",
      "source": [
        "# 4.Find the maximum, minimum, and median customer lifetime value by education level and gender. Write your conclusions.\n",
        "\n",
        "df4_max = df.groupby([\"Gender\", \"Education\"]).agg({\"Customer Lifetime Value\":\"max\"})\n",
        "df4_max\n",
        "\"\"\" CLV max can be found for women with Bachelor degree as for men, is actually a lower education level like high school or even below\"\"\""
      ],
      "metadata": {
        "id": "Y6W0pIdmOW5E"
      },
      "id": "Y6W0pIdmOW5E",
      "execution_count": null,
      "outputs": []
    },
    {
      "cell_type": "code",
      "source": [
        "df4_min = df.groupby([\"Gender\", \"Education\"]).agg({\"Customer Lifetime Value\":\"min\"})\n",
        "df4_min\n",
        "\n",
        "\"\"\"CLV min can be found for women with college degree, but really close to the Bachelor degree.\n",
        "For men, the min takes the same value as women, but is found in Bachelor degree education level\"\"\""
      ],
      "metadata": {
        "id": "6SwDVL-dOW3L"
      },
      "id": "6SwDVL-dOW3L",
      "execution_count": null,
      "outputs": []
    },
    {
      "cell_type": "code",
      "source": [
        "df4_median = df.groupby([\"Gender\", \"Education\"]).agg({\"Customer Lifetime Value\":\"median\"})\n",
        "df4_median"
      ],
      "metadata": {
        "id": "mPlZfBrkOW0j"
      },
      "id": "mPlZfBrkOW0j",
      "execution_count": null,
      "outputs": []
    },
    {
      "cell_type": "code",
      "source": [
        "\"\"\"In both genders customers with \"High School or Below\" education level have the highest median CLV. While \"doctor\" education level has the lowest median for both genders\""
      ],
      "metadata": {
        "id": "nqgCReNTOWyE"
      },
      "id": "nqgCReNTOWyE",
      "execution_count": null,
      "outputs": []
    },
    {
      "cell_type": "code",
      "source": [],
      "metadata": {
        "id": "bcxJmVGyEdAE"
      },
      "id": "bcxJmVGyEdAE",
      "execution_count": null,
      "outputs": []
    }
  ],
  "metadata": {
    "kernelspec": {
      "display_name": "Python 3 (ipykernel)",
      "language": "python",
      "name": "python3"
    },
    "language_info": {
      "codemirror_mode": {
        "name": "ipython",
        "version": 3
      },
      "file_extension": ".py",
      "mimetype": "text/x-python",
      "name": "python",
      "nbconvert_exporter": "python",
      "pygments_lexer": "ipython3",
      "version": "3.9.13"
    },
    "colab": {
      "provenance": []
    }
  },
  "nbformat": 4,
  "nbformat_minor": 5
}